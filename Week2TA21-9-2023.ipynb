{
 "cells": [
  {
   "cell_type": "code",
   "execution_count": 4,
   "id": "fc164348-7aa7-4707-8350-49e7ce3a1600",
   "metadata": {},
   "outputs": [
    {
     "name": "stdin",
     "output_type": "stream",
     "text": [
      "Enter a number:  10\n"
     ]
    },
    {
     "name": "stdout",
     "output_type": "stream",
     "text": [
      "20.0\n",
      "a is equal to b\n"
     ]
    }
   ],
   "source": [
    "a = float(input(\"Enter a number: \"))\n",
    "print(a+10)\n",
    "\n",
    "a=10\n",
    "b=10\n",
    "\n",
    "if a>b:\n",
    "    print(\"a is greater than b\")\n",
    "elif a==b:\n",
    "    print(\"a is equal to b\")\n",
    "else:\n",
    "    print(\"a is lesser than b\")\n",
    "          "
   ]
  },
  {
   "cell_type": "code",
   "execution_count": 18,
   "id": "650d6bcb-97fa-4a7d-94c9-c979cfa050f9",
   "metadata": {},
   "outputs": [
    {
     "name": "stdin",
     "output_type": "stream",
     "text": [
      "Multiplication Calculator; Enter a number:  1\n",
      "Multiplication Calculator; Enter next number:  done\n"
     ]
    },
    {
     "ename": "ValueError",
     "evalue": "could not convert string to float: 'done'",
     "output_type": "error",
     "traceback": [
      "\u001b[1;31m---------------------------------------------------------------------------\u001b[0m",
      "\u001b[1;31mValueError\u001b[0m                                Traceback (most recent call last)",
      "Cell \u001b[1;32mIn[18], line 2\u001b[0m\n\u001b[0;32m      1\u001b[0m a \u001b[38;5;241m=\u001b[39m \u001b[38;5;28mfloat\u001b[39m(\u001b[38;5;28minput\u001b[39m(\u001b[38;5;124m\"\u001b[39m\u001b[38;5;124mMultiplication Calculator; Enter a number: \u001b[39m\u001b[38;5;124m\"\u001b[39m))\n\u001b[1;32m----> 2\u001b[0m b \u001b[38;5;241m=\u001b[39m \u001b[38;5;28;43mfloat\u001b[39;49m\u001b[43m(\u001b[49m\u001b[38;5;28;43minput\u001b[39;49m\u001b[43m(\u001b[49m\u001b[38;5;124;43m\"\u001b[39;49m\u001b[38;5;124;43mMultiplication Calculator; Enter next number: \u001b[39;49m\u001b[38;5;124;43m\"\u001b[39;49m\u001b[43m)\u001b[49m\u001b[43m)\u001b[49m\n\u001b[0;32m      3\u001b[0m c \u001b[38;5;241m=\u001b[39m \u001b[38;5;28mfloat\u001b[39m(\u001b[38;5;28minput\u001b[39m(\u001b[38;5;124m\"\u001b[39m\u001b[38;5;124mMultiplication Calculator; Enter next number: \u001b[39m\u001b[38;5;124m\"\u001b[39m))\n\u001b[0;32m      4\u001b[0m d \u001b[38;5;241m=\u001b[39m \u001b[38;5;28mfloat\u001b[39m(\u001b[38;5;28minput\u001b[39m(\u001b[38;5;124m\"\u001b[39m\u001b[38;5;124mMultiplication Calculator; Enter next number: \u001b[39m\u001b[38;5;124m\"\u001b[39m))\n",
      "\u001b[1;31mValueError\u001b[0m: could not convert string to float: 'done'"
     ]
    }
   ],
   "source": [
    "a = float(input(\"Multiplication Calculator; Enter a number: \"))\n",
    "b = float(input(\"Multiplication Calculator; Enter next number: \"))\n",
    "c = float(input(\"Multiplication Calculator; Enter next number: \"))\n",
    "d = float(input(\"Multiplication Calculator; Enter next number: \"))\n",
    "e = float(input(\"Multiplication Calculator; Enter next number: \"))\n",
    "f = float(input(\"Multiplication Calculator; Enter next number: \"))\n",
    "g = float(input(\"Multiplication Calculator; Enter next number: \"))\n",
    "h = float(input(\"Multiplication Calculator; Enter next number: \"))\n",
    "i = float(input(\"Multiplication Calculator; Enter next number: \"))\n",
    "j = float(input(\"Multiplication Calculator; Enter next number: \"))\n",
    "print(\"The result is:\", a*b*c*d*e*f*g*h*i*j)"
   ]
  },
  {
   "cell_type": "code",
   "execution_count": null,
   "id": "873e328c-f5ea-47fc-bb93-ab0671dd7905",
   "metadata": {},
   "outputs": [],
   "source": [
    "a = float(input(\"Multiplication Calculator; Enter a number: \"))\n",
    "b = float(input(\"Multiplication Calculator; Enter next number: \"))\n",
    "c = float(input(\"Multiplication Calculator; Enter next number: \"))\n",
    "d = float(input(\"Multiplication Calculator; Enter next number: \"))\n",
    "e = float(input(\"Multiplication Calculator; Enter next number: \"))\n",
    "f = float(input(\"Multiplication Calculator; Enter next number: \"))\n",
    "g = float(input(\"Multiplication Calculator; Enter next number: \"))\n",
    "h = float(input(\"Multiplication Calculator; Enter next number: \"))\n",
    "i = float(input(\"Multiplication Calculator; Enter next number: \"))\n",
    "j = float(input(\"Multiplication Calculator; Enter next number: \"))\n",
    "\n",
    "print(\"The result is:\", a*b*c*d*e*f*g*h*i*j)\n",
    "\n",
    "    "
   ]
  },
  {
   "cell_type": "code",
   "execution_count": 12,
   "id": "2cd65b0a-7902-48ae-9f16-64f11271c38a",
   "metadata": {},
   "outputs": [
    {
     "name": "stdout",
     "output_type": "stream",
     "text": [
      "BMI Calculator\n"
     ]
    },
    {
     "name": "stdin",
     "output_type": "stream",
     "text": [
      "Enter your height(in cm):  180\n",
      "Enter your weight(in kg):  10\n"
     ]
    },
    {
     "name": "stdout",
     "output_type": "stream",
     "text": [
      "Your BMI is 3.1 kg/m^2\n",
      "You are considered severely thin.\n"
     ]
    }
   ],
   "source": [
    "print(\"BMI Calculator\")\n",
    "Height = float(input(\"Enter your height(in cm): \"))\n",
    "Weight = float(input(\"Enter your weight(in kg): \"))\n",
    "BMI = Weight/((Height/100)**2)\n",
    "print(\"Your BMI is\", f\"{BMI:.1f}\", \"kg/m^2\")\n",
    "if BMI>=40:\n",
    "    print(\"You are considered severely obese.\")\n",
    "elif 35<BMI<=39.9:\n",
    "    print(\"You are considered moderately obese.\")\n",
    "elif 30<BMI<=34.9:\n",
    "    print(\"You are considered mildly obese.\")\n",
    "elif 25<BMI<=29.9:\n",
    "    print(\"You are considered overweight.\")\n",
    "elif 18.5<BMI<=24.9:\n",
    "    print(\"Your weight is considered normal.\")\n",
    "elif 17<BMI<=18.4:\n",
    "    print(\"You are considered mildly thin.\")\n",
    "elif 16<BMI<=16.9:\n",
    "    print(\"You are considered moderately thin.\")\n",
    "else:\n",
    "    print(\"You are considered severely thin.\")\n"
   ]
  },
  {
   "cell_type": "code",
   "execution_count": null,
   "id": "613a5a22-1c20-4f0e-ab18-11717183b0fa",
   "metadata": {},
   "outputs": [],
   "source": []
  }
 ],
 "metadata": {
  "kernelspec": {
   "display_name": "Python 3 (ipykernel)",
   "language": "python",
   "name": "python3"
  },
  "language_info": {
   "codemirror_mode": {
    "name": "ipython",
    "version": 3
   },
   "file_extension": ".py",
   "mimetype": "text/x-python",
   "name": "python",
   "nbconvert_exporter": "python",
   "pygments_lexer": "ipython3",
   "version": "3.10.11"
  }
 },
 "nbformat": 4,
 "nbformat_minor": 5
}
