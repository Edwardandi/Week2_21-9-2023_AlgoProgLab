{
 "cells": [
  {
   "cell_type": "code",
   "execution_count": 34,
   "id": "b4dbdb43-932e-4cd3-8462-9fe35152b701",
   "metadata": {},
   "outputs": [
    {
     "name": "stdout",
     "output_type": "stream",
     "text": [
      "Addition Calculator(10 variables), if you do not want to calculate further, just input 0 for the rest.\n"
     ]
    },
    {
     "name": "stdin",
     "output_type": "stream",
     "text": [
      "Addition Calculator; Enter a number:  done\n"
     ]
    },
    {
     "ename": "ValueError",
     "evalue": "could not convert string to float: 'done'",
     "output_type": "error",
     "traceback": [
      "\u001b[1;31m---------------------------------------------------------------------------\u001b[0m",
      "\u001b[1;31mValueError\u001b[0m                                Traceback (most recent call last)",
      "Cell \u001b[1;32mIn[34], line 3\u001b[0m\n\u001b[0;32m      1\u001b[0m \u001b[38;5;66;03m#Intended to have 'done' to finish calculation but cannot put string \u001b[39;00m\n\u001b[0;32m      2\u001b[0m \u001b[38;5;28mprint\u001b[39m(\u001b[38;5;124m\"\u001b[39m\u001b[38;5;124mAddition Calculator(10 variables), if you do not want to calculate further, just input 0 for the rest.\u001b[39m\u001b[38;5;124m\"\u001b[39m)\n\u001b[1;32m----> 3\u001b[0m a \u001b[38;5;241m=\u001b[39m \u001b[38;5;28;43mfloat\u001b[39;49m\u001b[43m(\u001b[49m\u001b[38;5;28;43minput\u001b[39;49m\u001b[43m(\u001b[49m\u001b[38;5;124;43m\"\u001b[39;49m\u001b[38;5;124;43mAddition Calculator; Enter a number: \u001b[39;49m\u001b[38;5;124;43m\"\u001b[39;49m\u001b[43m)\u001b[49m\u001b[43m)\u001b[49m\n\u001b[0;32m      4\u001b[0m b \u001b[38;5;241m=\u001b[39m \u001b[38;5;28mfloat\u001b[39m(\u001b[38;5;28minput\u001b[39m(\u001b[38;5;124m\"\u001b[39m\u001b[38;5;124mAddition Calculator; Enter next number: \u001b[39m\u001b[38;5;124m\"\u001b[39m))\n\u001b[0;32m      5\u001b[0m c \u001b[38;5;241m=\u001b[39m \u001b[38;5;28mfloat\u001b[39m(\u001b[38;5;28minput\u001b[39m(\u001b[38;5;124m\"\u001b[39m\u001b[38;5;124mAddition Calculator; Enter next number: \u001b[39m\u001b[38;5;124m\"\u001b[39m))\n",
      "\u001b[1;31mValueError\u001b[0m: could not convert string to float: 'done'"
     ]
    }
   ],
   "source": [
    "#Intended to have 'done' to finish calculation but cannot find a way to work for all the calculators. \n",
    "print(\"Addition Calculator(10 variables), if you do not want to calculate further, just input 0 for the rest.\")\n",
    "a = float(input(\"Addition Calculator; Enter a number: \"))\n",
    "b = float(input(\"Addition Calculator; Enter next number: \"))\n",
    "c = float(input(\"Addition Calculator; Enter next number: \"))\n",
    "d = float(input(\"Addition Calculator; Enter next number: \"))\n",
    "e = float(input(\"Addition Calculator; Enter next number: \"))\n",
    "f = float(input(\"Addition Calculator; Enter next number: \"))\n",
    "g = float(input(\"Addition Calculator; Enter next number: \"))\n",
    "h = float(input(\"Addition Calculator; Enter next number: \"))\n",
    "i = float(input(\"Addition Calculator; Enter next number: \"))\n",
    "j = float(input(\"Addition Calculator; Enter next number: \"))\n",
    "print(\"The result is:\", a+b+c+d+e+f+g+h+i+j)"
   ]
  },
  {
   "cell_type": "code",
   "execution_count": 17,
   "id": "fc164348-7aa7-4707-8350-49e7ce3a1600",
   "metadata": {},
   "outputs": [
    {
     "name": "stdout",
     "output_type": "stream",
     "text": [
      "Subtraction Calculator(10 variables), if you do not want to calculate further, just input 0 for the rest.\n"
     ]
    },
    {
     "name": "stdin",
     "output_type": "stream",
     "text": [
      "Subtraction Calculator; Enter a number:  130\n",
      "Subtraction Calculator; Enter next number:  124\n",
      "Subtraction Calculator; Enter next number:  124\n",
      "Subtraction Calculator; Enter next number:  0\n",
      "Subtraction Calculator; Enter next number:  0\n",
      "Subtraction Calculator; Enter next number:  0\n",
      "Subtraction Calculator; Enter next number:  0\n",
      "Subtraction Calculator; Enter next number:  0\n",
      "Subtraction Calculator; Enter next number:  0\n",
      "Subtraction Calculator; Enter next number:  0\n"
     ]
    },
    {
     "name": "stdout",
     "output_type": "stream",
     "text": [
      "The result is: -118.0\n"
     ]
    }
   ],
   "source": [
    "print(\"Subtraction Calculator(10 variables), if you do not want to calculate further, just input 0 for the rest.\")\n",
    "a = float(input(\"Subtraction Calculator; Enter a number: \"))\n",
    "b = float(input(\"Subtraction Calculator; Enter next number: \"))\n",
    "c = float(input(\"Subtraction Calculator; Enter next number: \"))\n",
    "d = float(input(\"Subtraction Calculator; Enter next number: \"))\n",
    "e = float(input(\"Subtraction Calculator; Enter next number: \"))\n",
    "f = float(input(\"Subtraction Calculator; Enter next number: \"))\n",
    "g = float(input(\"Subtraction Calculator; Enter next number: \"))\n",
    "h = float(input(\"Subtraction Calculator; Enter next number: \"))\n",
    "i = float(input(\"Subtraction Calculator; Enter next number: \"))\n",
    "j = float(input(\"Subtraction Calculator; Enter next number: \"))\n",
    "print(\"The result is:\", a-b-c-d-e-f-g-h-i-j)"
   ]
  },
  {
   "cell_type": "code",
   "execution_count": 24,
   "id": "b80aa288-7c6b-4efa-a46b-a3aae7357747",
   "metadata": {},
   "outputs": [
    {
     "name": "stdout",
     "output_type": "stream",
     "text": [
      "Multiplication Calculator(10 variables), if you do not want to calculate further, just input 1 for the rest.\n"
     ]
    },
    {
     "name": "stdin",
     "output_type": "stream",
     "text": [
      "Multiplication Calculator; Enter a number:  2\n",
      "Multiplication Calculator; Enter next number:  2\n",
      "Multiplication Calculator; Enter next number:  2\n",
      "Multiplication Calculator; Enter next number:  1\n",
      "Multiplication Calculator; Enter next number:  1\n",
      "Multiplication Calculator; Enter next number:  1\n",
      "Multiplication Calculator; Enter next number:  1\n",
      "Multiplication Calculator; Enter next number:  1\n",
      "Multiplication Calculator; Enter next number:  1\n",
      "Multiplication Calculator; Enter next number:  1\n"
     ]
    },
    {
     "name": "stdout",
     "output_type": "stream",
     "text": [
      "The result is: 8.0\n"
     ]
    }
   ],
   "source": [
    "print(\"Multiplication Calculator(10 variables), if you do not want to calculate further, just input 1 for the rest.\")\n",
    "a = float(input(\"Multiplication Calculator; Enter a number: \"))\n",
    "b = float(input(\"Multiplication Calculator; Enter next number: \"))\n",
    "c = float(input(\"Multiplication Calculator; Enter next number: \"))\n",
    "d = float(input(\"Multiplication Calculator; Enter next number: \"))\n",
    "e = float(input(\"Multiplication Calculator; Enter next number: \"))\n",
    "f = float(input(\"Multiplication Calculator; Enter next number: \"))\n",
    "g = float(input(\"Multiplication Calculator; Enter next number: \"))\n",
    "h = float(input(\"Multiplication Calculator; Enter next number: \"))\n",
    "i = float(input(\"Multiplication Calculator; Enter next number: \"))\n",
    "j = float(input(\"Multiplication Calculator; Enter next number: \"))\n",
    "print(\"The result is:\", a*b*c*d*e*f*g*h*i*j)"
   ]
  },
  {
   "cell_type": "code",
   "execution_count": 22,
   "id": "873e328c-f5ea-47fc-bb93-ab0671dd7905",
   "metadata": {},
   "outputs": [
    {
     "name": "stdout",
     "output_type": "stream",
     "text": [
      "Division Calculator(10 variables), if you do not want to calculate further, just input 1 for the rest.\n"
     ]
    },
    {
     "name": "stdin",
     "output_type": "stream",
     "text": [
      "Division Calculator; Enter a number:  1024\n",
      "Division Calculator; Enter next number:  2\n",
      "Division Calculator; Enter next number:  1\n",
      "Division Calculator; Enter next number:  1\n",
      "Division Calculator; Enter next number:  1\n",
      "Division Calculator; Enter next number:  1\n",
      "Division Calculator; Enter next number:  1\n",
      "Division Calculator; Enter next number:  1\n",
      "Division Calculator; Enter next number:  1\n",
      "Division Calculator; Enter next number:  1\n"
     ]
    },
    {
     "name": "stdout",
     "output_type": "stream",
     "text": [
      "The result is: 512.0\n"
     ]
    }
   ],
   "source": [
    "print(\"Division Calculator(10 variables), if you do not want to calculate further, just input 1 for the rest.\")\n",
    "a = float(input(\"Division Calculator; Enter a number: \"))\n",
    "b = float(input(\"Division Calculator; Enter next number: \"))\n",
    "c = float(input(\"Division Calculator; Enter next number: \"))\n",
    "d = float(input(\"Division Calculator; Enter next number: \"))\n",
    "e = float(input(\"Division Calculator; Enter next number: \"))\n",
    "f = float(input(\"Division Calculator; Enter next number: \"))\n",
    "g = float(input(\"Division Calculator; Enter next number: \"))\n",
    "h = float(input(\"Division Calculator; Enter next number: \"))\n",
    "i = float(input(\"Division Calculator; Enter next number: \"))\n",
    "j = float(input(\"Division Calculator; Enter next number: \"))\n",
    "print(\"The result is:\", a/b/c/d/e/f/g/h/i/j)\n"
   ]
  },
  {
   "cell_type": "code",
   "execution_count": 32,
   "id": "d0857efb-ce6d-4c1c-8ffc-da92367508e3",
   "metadata": {},
   "outputs": [
    {
     "name": "stdout",
     "output_type": "stream",
     "text": [
      "Power Calculator(10 variables), if you do not want to calculate further, just input 1 for the rest.\n"
     ]
    },
    {
     "name": "stdin",
     "output_type": "stream",
     "text": [
      "Power Calculator; Enter a number:  3\n",
      "Power Calculator; Enter next number:  3\n",
      "Power Calculator; Enter next number:  3\n",
      "Power Calculator; Enter next number:  1\n",
      "Power Calculator; Enter next number:  1\n",
      "Power Calculator; Enter next number:  1\n",
      "Power Calculator; Enter next number:  1\n",
      "Power Calculator; Enter next number:  1\n",
      "Power Calculator; Enter next number:  1\n",
      "Power Calculator; Enter next number:  1\n"
     ]
    },
    {
     "name": "stdout",
     "output_type": "stream",
     "text": [
      "The result is: 7625597484987.0\n"
     ]
    }
   ],
   "source": [
    "print(\"Power Calculator(10 variables), if you do not want to calculate further, just input 1 for the rest.\")\n",
    "a = float(input(\"Power Calculator; Enter a number: \"))\n",
    "b = float(input(\"Power Calculator; Enter next number: \"))\n",
    "c = float(input(\"Power Calculator; Enter next number: \"))\n",
    "d = float(input(\"Power Calculator; Enter next number: \"))\n",
    "e = float(input(\"Power Calculator; Enter next number: \"))\n",
    "f = float(input(\"Power Calculator; Enter next number: \"))\n",
    "g = float(input(\"Power Calculator; Enter next number: \"))\n",
    "h = float(input(\"Power Calculator; Enter next number: \"))\n",
    "i = float(input(\"Power Calculator; Enter next number: \"))\n",
    "j = float(input(\"Power Calculator; Enter next number: \"))\n",
    "print(\"The result is:\", a**b**c**d**e**f**g**h**i**j)"
   ]
  },
  {
   "cell_type": "code",
   "execution_count": 33,
   "id": "c41f09d4-4580-419c-99ab-ae22073a119e",
   "metadata": {},
   "outputs": [
    {
     "name": "stdout",
     "output_type": "stream",
     "text": [
      "BMI Calculator\n"
     ]
    },
    {
     "name": "stdin",
     "output_type": "stream",
     "text": [
      "Enter your height(in cm):  180\n",
      "Enter your weight(in kg):  125\n"
     ]
    },
    {
     "name": "stdout",
     "output_type": "stream",
     "text": [
      "Your BMI is 38.6 kg/m^2\n",
      "You are considered moderately obese.\n"
     ]
    }
   ],
   "source": [
    "#There's a problem with BMI value close to the nearest whole number.\n",
    "#Ex: BMI of 16.97 is printed rounded to 1 decimal place, thus resulting in 17.0. \n",
    "#But it is still considered in the category 16.0<=BMI<17.0 whereas I intended it to be in the category 17.0<=BMI<18.5\n",
    "#I do not know how to fix it yet.\n",
    "print(\"BMI Calculator\")\n",
    "Height = float(input(\"Enter your height(in cm): \"))\n",
    "Weight = float(input(\"Enter your weight(in kg): \"))\n",
    "BMI = Weight/((Height/100)**2)\n",
    "print(\"Your BMI is\", f\"{BMI:.1f}\", \"kg/m^2\")\n",
    "if BMI>=40.0:\n",
    "    print(\"You are considered severely obese.\")\n",
    "elif 35.0<=BMI<40.0:\n",
    "    print(\"You are considered moderately obese.\")\n",
    "elif 30.0<=BMI<35.0:\n",
    "    print(\"You are considered mildly obese.\")\n",
    "elif 25.0<=BMI<30.0:\n",
    "    print(\"You are considered overweight.\")\n",
    "elif 18.5<=BMI<25.0:\n",
    "    print(\"Your weight is considered normal.\")\n",
    "elif 17.0<=BMI<18.5:\n",
    "    print(\"You are considered mildly thin.\")\n",
    "elif 16.0<=BMI<17.0:\n",
    "    print(\"You are considered moderately thin.\")\n",
    "else:\n",
    "    print(\"You are considered severely thin.\")"
   ]
  },
  {
   "cell_type": "code",
   "execution_count": null,
   "id": "4315d1f2-d3da-4721-a45a-d1a0bd15ab10",
   "metadata": {},
   "outputs": [],
   "source": []
  }
 ],
 "metadata": {
  "kernelspec": {
   "display_name": "Python 3 (ipykernel)",
   "language": "python",
   "name": "python3"
  },
  "language_info": {
   "codemirror_mode": {
    "name": "ipython",
    "version": 3
   },
   "file_extension": ".py",
   "mimetype": "text/x-python",
   "name": "python",
   "nbconvert_exporter": "python",
   "pygments_lexer": "ipython3",
   "version": "3.10.11"
  }
 },
 "nbformat": 4,
 "nbformat_minor": 5
}
